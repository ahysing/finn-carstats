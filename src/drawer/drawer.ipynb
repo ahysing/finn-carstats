{
 "cells": [
  {
   "cell_type": "code",
   "execution_count": 157,
   "metadata": {},
   "outputs": [],
   "source": [
    "import pandas as pd\n",
    "import plotly.express as px\n",
    "import numpy as np\n",
    "\n",
    "df = pd.read_csv('data.CSV', header=0, index_col=1)\n",
    "max_distance = 180000\n",
    "df = df[df['distance'] <= max_distance]\n",
    "df.sort_values(by=['search', 'distance'], ascending=[True,True], inplace=True)\n",
    "df['regression_price'] = np.nan\n",
    "for car_model in df['search'].unique():\n",
    "    df_car_model = df.loc[(df['search'] == car_model) & (df['price'] > 0) & (df['price'] < 10000000) & (df['distance'] > 0) & (df['distance'] < max_distance)]\n",
    "    y = df_car_model['price']\n",
    "    x = df_car_model['distance']\n",
    "    try:\n",
    "        result = np.polyfit(x, y, 3)\n",
    "        # regression_distance = np.linspace(0, max_distance, 1)\n",
    "        regression_price = np.poly1d(result)\n",
    "        df.loc[(df['search'] == car_model), 'regression_price'] = df.loc[(df['search'] == car_model), 'distance'].apply(lambda x: regression_price(x))\n",
    "    except Exception as e:\n",
    "        print(repr(e))\n",
    "        continue\n",
    "fig = px.line(df, x=\"distance\", y=\"regression_price\", color=\"search\", title=\"finn.no car models\")\n",
    "fig.update_traces(textposition=\"bottom right\")\n",
    "for car_model in df['search'].unique():\n",
    "    df_car_model = df.loc[(df['search'] == car_model) & (df['price'] > 0) & (df['price'] < 10000000) & (df['distance'] > 0) & (df['distance'] < max_distance)]\n",
    "    fig.add_scatter(x=df_car_model['distance'], y=df_car_model['price'], mode='markers', name=car_model)\n",
    "\n",
    "fig.show(renderer=\"browser\")"
   ]
  }
 ],
 "metadata": {
  "kernelspec": {
   "display_name": "drawer",
   "language": "python",
   "name": "drawer"
  },
  "language_info": {
   "codemirror_mode": {
    "name": "ipython",
    "version": 3
   },
   "file_extension": ".py",
   "mimetype": "text/x-python",
   "name": "python",
   "nbconvert_exporter": "python",
   "pygments_lexer": "ipython3",
   "version": "3.11.7"
  }
 },
 "nbformat": 4,
 "nbformat_minor": 2
}
