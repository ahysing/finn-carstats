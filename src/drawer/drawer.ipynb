{
 "cells": [
  {
   "cell_type": "markdown",
   "metadata": {},
   "source": [
    "## Price Versus Distance"
   ]
  },
  {
   "cell_type": "code",
   "execution_count": 118,
   "metadata": {},
   "outputs": [],
   "source": [
    "import pandas as pd\n",
    "import plotly.express as px\n",
    "\n",
    "df = pd.read_csv('data.CSV', header=0)\n",
    "df.insert(0, 'age_years', 0)\n",
    "df['age_days'] = (pd.to_datetime('today') - pd.to_datetime(df['first_registration'], format=\"%Y-%m-%d\", errors='coerce')).dt.days\n",
    "df.set_index('first_registration', inplace=True)\n",
    "max_distance = 180000\n",
    "try:\n",
    "    df = df[df['distance'] <= max_distance]\n",
    "except Exception as e:\n",
    "    pass\n",
    "df.sort_values(by=['search', 'distance'], ascending=[True,True], inplace=True)\n",
    "scale = px.colors.sequential.Rainbow\n",
    "fig = px.scatter(df, x='distance',\n",
    "                 y='price',\n",
    "                 color='search',\n",
    "                 title=\"finn.no car models\",\n",
    "                 trendline=\"lowess\",\n",
    "                 trendline_options=dict(frac=0.4),\n",
    "                 hover_name='title',\n",
    "                 hover_data=['price', 'distance', 'year', 'age_days', 'url', 'area'],\n",
    "                 color_continuous_scale='Viridis')\n",
    "fig.update_xaxes(showline=True, linewidth=2, linecolor='black', gridcolor='grey', nticks=20)\n",
    "fig.update_yaxes(showline=True, linewidth=2, linecolor='black', gridcolor='grey', nticks=20)\n",
    "\n",
    "\n",
    "fig.show(renderer=\"browser\")"
   ]
  },
  {
   "cell_type": "markdown",
   "metadata": {},
   "source": [
    "## Price Versus Age"
   ]
  },
  {
   "cell_type": "code",
   "execution_count": 120,
   "metadata": {},
   "outputs": [],
   "source": [
    "import pandas as pd\n",
    "import plotly.express as px\n",
    "\n",
    "df = pd.read_csv('data.CSV', header=0)\n",
    "df.insert(0, 'age_years', 0)\n",
    "df['age_days'] = (pd.to_datetime('today') - pd.to_datetime(df['first_registration'], format=\"%Y-%m-%d\", errors='coerce')).dt.days\n",
    "df['age_years'] = df['age_days'] / 365\n",
    "df.set_index('first_registration', inplace=True)\n",
    "max_distance = 180000\n",
    "try:\n",
    "    df = df[df['distance'] <= max_distance]\n",
    "except Exception as e:\n",
    "    pass\n",
    "df.sort_values(by=['search', 'distance'], ascending=[True,True], inplace=True)\n",
    "scale = px.colors.sequential.Rainbow\n",
    "fig = px.scatter(df, x='age_years',\n",
    "                 y='price',\n",
    "                 color='search',\n",
    "                 title=\"finn.no car models\",\n",
    "                 trendline=\"lowess\",\n",
    "                 trendline_options=dict(frac=0.4),\n",
    "                 hover_name='title',\n",
    "                 hover_data=['price', 'distance', 'year', 'url', 'area', 'age_days'],\n",
    "                 color_continuous_scale='Viridis')\n",
    "fig.update_xaxes(showline=True, linewidth=2, linecolor='black', gridcolor='grey', nticks=20)\n",
    "fig.update_yaxes(showline=True, linewidth=2, linecolor='black', gridcolor='grey', nticks=20)\n",
    "\n",
    "\n",
    "fig.show(renderer=\"browser\")"
   ]
  },
  {
   "cell_type": "markdown",
   "metadata": {},
   "source": [
    "# Price Versus Age and Distance"
   ]
  },
  {
   "cell_type": "code",
   "execution_count": 121,
   "metadata": {},
   "outputs": [],
   "source": [
    "import pandas as pd\n",
    "import plotly.express as px\n",
    "import numpy as np\n",
    "\n",
    "df = pd.read_csv('data.CSV', header=0)\n",
    "df.insert(0, 'age_days', 0)\n",
    "df['age_days'] = (pd.to_datetime('today') - pd.to_datetime(df['first_registration'], format=\"%Y-%m-%d\", errors='coerce')).dt.days\n",
    "df.insert(0, 'age_years', 0)\n",
    "df['age_years'] = df['age_days'] / 365\n",
    "df.set_index('first_registration', inplace=True)\n",
    "\n",
    "max_days = df['age_days'].max()\n",
    "max_distance = df['distance'].max()\n",
    "df['hypotenuse of days and distance'] = np.hypot(df['age_days'] / max_days, df['distance'] / max_distance)\n",
    "\n",
    "fig = px.scatter(df, x='hypotenuse of days and distance',\n",
    "                 y='price',\n",
    "                 color='search',\n",
    "                 title=\"cars by age and distance combined\",\n",
    "                 trendline=\"lowess\",\n",
    "                 trendline_options=dict(frac=0.7),\n",
    "                 hover_name='title',\n",
    "                 hover_data=['age_days', 'price', 'distance', 'year', 'url', 'area'],\n",
    "                 color_continuous_scale='Viridis')\n",
    "fig.update_xaxes(showline=True, linewidth=2, linecolor='black', gridcolor='grey', nticks=20)\n",
    "fig.update_yaxes(showline=True, linewidth=2, linecolor='black', gridcolor='grey', nticks=20)\n",
    "\n",
    "fig.show(renderer=\"browser\")"
   ]
  },
  {
   "cell_type": "markdown",
   "metadata": {},
   "source": [
    "# Daily Value loss\n",
    "What is the average price loss of a year owned?\n",
    "This graph finds that out"
   ]
  },
  {
   "cell_type": "code",
   "execution_count": 122,
   "metadata": {},
   "outputs": [
    {
     "name": "stdout",
     "output_type": "stream",
     "text": [
      "start_x: 107, end_x: 2728, num_samples: 2622 search: Hyundai Ioniq\n",
      "start_x: 0, end_x: 6857, num_samples: 6858 search: Mitsubishi Outlander\n",
      "start_x: 165, end_x: 10967, num_samples: 10803 search: Passat\n",
      "start_x: 387, end_x: 7828, num_samples: 7442 search: Skoda Octavia\n",
      "start_x: 107, end_x: 6295, num_samples: 6189 search: Skoda Superb\n",
      "start_x: 11, end_x: 3825, num_samples: 3815 search: Suzuki S-Cross\n",
      "start_x: 79, end_x: 1879, num_samples: 1801 search: Tesla Model 3\n",
      "start_x: 230, end_x: 1824, num_samples: 1595 search: Toyota Corolla Touring Sports\n",
      "start_x: 139, end_x: 8392, num_samples: 8254 search: Toyota RAV4\n",
      "start_x: 17, end_x: 4511, num_samples: 4495 search: Volkswagen ID.4\n"
     ]
    },
    {
     "name": "stderr",
     "output_type": "stream",
     "text": [
      "/var/folders/vs/dd0q47_n1372hkr7lkkm18l40000gn/T/ipykernel_1106/3613086777.py:34: FutureWarning:\n",
      "\n",
      "The behavior of DataFrame concatenation with empty or all-NA entries is deprecated. In a future version, this will no longer exclude empty or all-NA columns when determining the result dtypes. To retain the old behavior, exclude the relevant entries before the concat operation.\n",
      "\n"
     ]
    }
   ],
   "source": [
    "import pandas as pd\n",
    "import plotly.express as px\n",
    "import statsmodels.api as sm\n",
    "df = pd.read_csv('data.CSV', header=0)\n",
    "df.insert(0, 'age_days', 0)\n",
    "df['age_days'] = (pd.to_datetime('today') - pd.to_datetime(df['first_registration'], format=\"%Y-%m-%d\", errors='coerce')).dt.days\n",
    "df.insert(0, 'age_years', 0)\n",
    "df['age_years'] = df['age_days'] / 365\n",
    "df.set_index('first_registration', inplace=True)\n",
    "\n",
    "result_df = pd.DataFrame([], columns=['age_days', 'price', 'search'])\n",
    "\n",
    "for search in df['search'].unique():\n",
    "    df_search = df[df['search'] == search]\n",
    "\n",
    "    frac = 0.7\n",
    "    result = sm.nonparametric.lowess(exog=df_search['age_days'], endog=df_search['price'], frac=frac, it=3, return_sorted=True)\n",
    "\n",
    "    start_x = int(np.floor(df_search['age_days'].min()))\n",
    "    if start_x < 0:\n",
    "        start_x = 0\n",
    "    end_x = int(np.ceil(df_search['age_days'].max()))\n",
    "    num_samples = end_x - start_x + 1\n",
    "    print(f\"start_x: {start_x}, end_x: {end_x}, num_samples: {num_samples} search: {search}\")\n",
    "    new_x = np.linspace(start=start_x, stop=end_x, num=num_samples, dtype=np.float32)\n",
    "    new_y = np.interp(x=new_x, xp=result[:,0], fp=result[:,1])\n",
    "\n",
    "    new_y = np.abs(np.gradient(new_y))\n",
    "    result = np.column_stack((new_x, new_y))\n",
    "    new = pd.DataFrame(result, columns=['age_days', 'price'])\n",
    "    #new['price'] = new['price'].pct_change()\n",
    "\n",
    "    new.insert(2, 'search', search)\n",
    "    result_df = pd.concat([result_df, new], axis=0)\n",
    "fig = px.scatter(result_df, x='age_days',\n",
    "                y='price',\n",
    "                color='search',\n",
    "                title=\"Daily value loss (NOK) over time\",\n",
    "                hover_name='price',\n",
    "                hover_data=['age_days', 'price', 'search'],\n",
    "                color_continuous_scale='Viridis')\n",
    "fig.update_xaxes(showline=True, linewidth=2, linecolor='black', gridcolor='grey', nticks=20)\n",
    "fig.update_yaxes(showline=True, linewidth=2, linecolor='black', gridcolor='grey', nticks=20)\n",
    "\n",
    "fig.show(renderer=\"browser\")\n",
    "\n",
    "#frac = 0.7\n",
    "#result_df = pd.DataFrame([], columns=['age_days', 'price'])\n",
    "#trendline_options=dict(frac=frac),\n",
    "#result = sm.nonparametric.lowess(exog=df['age_days'], endog=df['price'], frac=frac, it=3, return_sorted=True)\n",
    "##result.gradient()\n",
    "#new = pd.DataFrame(result, columns=['age_days', 'price'])\n",
    "#result_df = pd.concat([result_df, new], axis=0)\n",
    "##result_df = result_df.pct_change(periods=365)\n",
    "#fig = px.scatter(result_df, x='age_days',\n",
    "#                 y='price',\n",
    "#                 title=\"price change over time\",\n",
    "#                 color_continuous_scale='Viridis')\n",
    "#fig.update_xaxes(showline=True, linewidth=2, linecolor='black', gridcolor='grey', nticks=20)\n",
    "#fig.update_yaxes(showline=True, linewidth=2, linecolor='black', gridcolor='grey', nticks=20)\n",
    "#\n",
    "#fig.show(renderer=\"browser\")"
   ]
  }
 ],
 "metadata": {
  "kernelspec": {
   "display_name": "drawer",
   "language": "python",
   "name": "drawer"
  },
  "language_info": {
   "codemirror_mode": {
    "name": "ipython",
    "version": 3
   },
   "file_extension": ".py",
   "mimetype": "text/x-python",
   "name": "python",
   "nbconvert_exporter": "python",
   "pygments_lexer": "ipython3",
   "version": "3.11.8"
  }
 },
 "nbformat": 4,
 "nbformat_minor": 2
}
