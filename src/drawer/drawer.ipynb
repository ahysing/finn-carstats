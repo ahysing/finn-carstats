{
 "cells": [
  {
   "cell_type": "code",
   "execution_count": null,
   "metadata": {},
   "outputs": [],
   "source": []
  },
  {
   "cell_type": "code",
   "execution_count": 69,
   "metadata": {},
   "outputs": [],
   "source": [
    "import pandas as pd\n",
    "import plotly.express as px\n",
    "\n",
    "df = pd.read_csv('data.CSV', header=0)\n",
    "df.insert(0, 'age_years', 0)\n",
    "df['age_years'] = (pd.to_datetime('today') - pd.to_datetime(df['first_registration'], format=\"%Y-%m-%d\", errors='coerce')).dt.days / 365\n",
    "df.set_index('first_registration', inplace=True)\n",
    "max_distance = 180000\n",
    "try:\n",
    "    df = df[df['distance'] <= max_distance]\n",
    "except Exception as e:\n",
    "    pass\n",
    "df.sort_values(by=['search', 'distance'], ascending=[True,True], inplace=True)\n",
    "scale = px.colors.sequential.Rainbow\n",
    "fig = px.scatter(df, x='age_years',\n",
    "                 y='price',\n",
    "                 color='search',\n",
    "                 title=\"finn.no car models\",\n",
    "                 hover_data='title',\n",
    "                 trendline=\"lowess\",\n",
    "                 trendline_options=dict(frac=0.4),\n",
    "                 color_continuous_scale='Viridis')\n",
    "fig.update_xaxes(showline=True, linewidth=2, linecolor='black', gridcolor='grey', nticks=20)\n",
    "fig.update_yaxes(showline=True, linewidth=2, linecolor='black', gridcolor='grey', nticks=20)\n",
    "fig.show(renderer=\"browser\")"
   ]
  }
 ],
 "metadata": {
  "kernelspec": {
   "display_name": "drawer",
   "language": "python",
   "name": "drawer"
  },
  "language_info": {
   "codemirror_mode": {
    "name": "ipython",
    "version": 3
   },
   "file_extension": ".py",
   "mimetype": "text/x-python",
   "name": "python",
   "nbconvert_exporter": "python",
   "pygments_lexer": "ipython3",
   "version": "3.11.7"
  }
 },
 "nbformat": 4,
 "nbformat_minor": 2
}
